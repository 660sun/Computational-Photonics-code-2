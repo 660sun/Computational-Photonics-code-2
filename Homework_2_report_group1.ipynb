{
 "cells": [
  {
   "cell_type": "markdown",
   "metadata": {},
   "source": [
    "<center>\n",
    "\n",
    "<p style=\"font-size:30px;\"><strong> Computational Photonics </p>\n",
    "\n",
    "<p style=\"font-size:30px;\"><strong> Homework 2: Implementation of the Beam Propagation Method </p>\n",
    "\n",
    "\n",
    "</center>\n",
    "\n",
    "<center>\n",
    "\n",
    "**Author:**\n",
    "*Group 1*\n",
    "| Name             | Email       |\n",
    "| -----------      | ----------- |\n",
    "| *Kiril Armstrong*|  *kiril.armstrong@uni-jena.de*   |\n",
    "| *Lena Fleischmann*   |  *lena.fleischmann@uni-jena.de*           |\n",
    "| *Md Zobaer Ahmed Rahat*  |  *@uni-jena.de*           |\n",
    "| *Yucheng Sun*     |  *yucheng.sun@uni-jena.de*        |\n",
    "\n",
    "</center>"
   ]
  },
  {
   "cell_type": "markdown",
   "metadata": {},
   "source": [
    ">**Supervisor:**\n",
    ">\n",
    ">*Prof. Thomas Pertsch* \n",
    ">\n",
    ">**Tutor:**\n",
    ">\n",
    ">*Tobias Bucher*\n",
    ">\n",
    ">*Jan Sperrhake*\n"
   ]
  },
  {
   "cell_type": "code",
   "execution_count": null,
   "metadata": {},
   "outputs": [],
   "source": [
    "import numpy as np\n",
    "import scipy.sparse as sps\n",
    "from scipy.sparse.linalg import spsolve\n",
    "from matplotlib import pyplot as plt\n",
    "# from Homework_2_function_headers import waveguide, gauss, beamprop_FN, beamprop_CN, beamprop_BN\n",
    "\n",
    "# dark bluered colormap, registers automatically with matplotlib on import\n",
    "import bluered_dark\n",
    "\n",
    "plt.rcParams.update({\n",
    "        'figure.figsize': (12/2.54, 9/2.54),\n",
    "        'figure.subplot.bottom': 0.15,\n",
    "        'figure.subplot.left': 0.165,\n",
    "        'figure.subplot.right': 0.925,\n",
    "        'figure.subplot.top': 0.9,\n",
    "        'axes.grid': True,\n",
    "})\n",
    "plt.close('all')\n",
    "\n",
    "%config InlineBackend.figure_format = 'svg'\n",
    "%matplotlib inline"
   ]
  },
  {
   "cell_type": "markdown",
   "metadata": {},
   "source": [
    "**Table of contents**<a id='toc0_'></a>    \n",
    "- 1. [Introduction](#toc1_)    \n",
    "- 2. [Beam Propagation Method](#toc2_)    \n",
    "- 3. [Von Neumann stability analysis](#toc3_)    \n",
    "- 4. [Analysis and Simulation of the Problems](#toc4_)    \n",
    "  - 4.1. [Task 1 - explicit - implicit scheme](#toc4_1_)    \n",
    "    - 4.1.1. [Implementation](#toc4_1_1_)    \n",
    "    - 4.1.2. [Convergence Tests](#toc4_1_2_)    \n",
    "    - 4.1.3. [Example](#toc4_1_3_)    \n",
    "  - 4.2. [Task 2 - explicit scheme](#toc4_2_)    \n",
    "    - 4.2.1. [Implementation](#toc4_2_1_)    \n",
    "    - 4.2.2. [Convergence Tests](#toc4_2_2_)    \n",
    "    - 4.2.3. [Example](#toc4_2_3_)    \n",
    "  - 4.3. [Task 3 - implicit scheme](#toc4_3_)    \n",
    "    - 4.3.1. [Implementation](#toc4_3_1_)    \n",
    "    - 4.3.2. [Convergence Tests](#toc4_3_2_)    \n",
    "    - 4.3.3. [Example](#toc4_3_3_)    \n",
    "- 5. [Conclusion](#toc5_)    \n",
    "- 6. [References](#toc6_)    \n",
    "\n",
    "<!-- vscode-jupyter-toc-config\n",
    "\tnumbering=true\n",
    "\tanchor=true\n",
    "\tflat=false\n",
    "\tminLevel=2\n",
    "\tmaxLevel=6\n",
    "\t/vscode-jupyter-toc-config -->\n",
    "<!-- THIS CELL WILL BE REPLACED ON TOC UPDATE. DO NOT WRITE YOUR TEXT IN THIS CELL -->"
   ]
  },
  {
   "cell_type": "markdown",
   "metadata": {},
   "source": [
    "## 1. <a id='toc1_'></a>[Introduction](#toc0_)"
   ]
  },
  {
   "cell_type": "markdown",
   "metadata": {},
   "source": []
  },
  {
   "cell_type": "markdown",
   "metadata": {},
   "source": [
    "## 2. <a id='toc2_'></a>[Beam Propagation Method](#toc0_)"
   ]
  },
  {
   "cell_type": "markdown",
   "metadata": {},
   "source": []
  },
  {
   "cell_type": "markdown",
   "metadata": {},
   "source": [
    "## 3. <a id='toc3_'></a>[Von Neumann stability analysis](#toc0_)"
   ]
  },
  {
   "cell_type": "markdown",
   "metadata": {},
   "source": []
  },
  {
   "cell_type": "markdown",
   "metadata": {},
   "source": [
    "## 4. <a id='toc4_'></a>[Analysis and Simulation of the Problems](#toc0_)"
   ]
  },
  {
   "cell_type": "code",
   "execution_count": null,
   "metadata": {},
   "outputs": [],
   "source": [
    "def waveguide(xa, xb, Nx, n_cladding, n_core):\n",
    "    '''Generates the refractive index distribution of a slab waveguide\n",
    "    with step profile centered around the origin of the coordinate\n",
    "    system with a refractive index of n_core in the waveguide region\n",
    "    and n_cladding in the surrounding cladding area.\n",
    "    All lengths have to be specified in µm.\n",
    "\n",
    "    Parameters\n",
    "    ----------\n",
    "        xa : float\n",
    "            Width of calculation window\n",
    "        xb : float\n",
    "            Width of waveguide\n",
    "        Nx : int\n",
    "            Number of grid points\n",
    "        n_cladding : float\n",
    "            Refractive index of cladding\n",
    "        n_core : float\n",
    "            Refractive index of core\n",
    "\n",
    "    Returns\n",
    "    -------\n",
    "        n : 1d-array\n",
    "            Generated refractive index distribution\n",
    "        x : 1d-array\n",
    "            Generated coordinate vector\n",
    "    '''\n",
    "    \n",
    "    x = np.linspace(-xa/2, xa/2, Nx)\n",
    "    n = np.zeros(Nx, dtype=float)\n",
    "    # index distribution\n",
    "    for i in range(Nx):\n",
    "        if abs(x[i]) <= xb/2:\n",
    "            n[i] = n_core\n",
    "        else:\n",
    "            n[i] = n_cladding\n",
    "    # for i, xi in enumerate(x):\n",
    "    #     if abs(xi) <= xb/2:\n",
    "    #         n[i] = n_core\n",
    "    #     else:\n",
    "    #         n[i] = n_cladding\n",
    "    return n, x"
   ]
  },
  {
   "cell_type": "code",
   "execution_count": null,
   "metadata": {},
   "outputs": [],
   "source": [
    "def gauss(xa, Nx, w):\n",
    "    '''Generates a Gaussian field distribution v = exp(-x^2/w^2) centered\n",
    "    around the origin of the coordinate system and having a width of w.\n",
    "    All lengths have to be specified in µm.\n",
    "\n",
    "    Parameters\n",
    "    ----------\n",
    "        xa : float\n",
    "            Width of calculation window\n",
    "        Nx : int\n",
    "            Number of grid points\n",
    "        w  : float\n",
    "            Width of Gaussian field\n",
    "\n",
    "    Returns\n",
    "    -------\n",
    "        v : 1d-array\n",
    "            Generated field distribution\n",
    "        x : 1d-array\n",
    "            Generated coordinate vector\n",
    "    '''\n",
    "    \n",
    "    x = np.linspace(-xa/2, xa/2, Nx)\n",
    "    v = np.exp(-x**2/w**2)\n",
    "    return v, x"
   ]
  },
  {
   "cell_type": "markdown",
   "metadata": {},
   "source": [
    "### 4.1. <a id='toc4_1_'></a>[Task 1 - explicit - implicit scheme](#toc0_)"
   ]
  },
  {
   "cell_type": "markdown",
   "metadata": {},
   "source": []
  },
  {
   "cell_type": "markdown",
   "metadata": {},
   "source": [
    "#### 4.1.1. <a id='toc4_1_1_'></a>[Implementation](#toc0_)"
   ]
  },
  {
   "cell_type": "code",
   "execution_count": null,
   "metadata": {},
   "outputs": [],
   "source": [
    "def beamprop_CN(v_in, lam, dx, n, nd,  z_end, dz, output_step):\n",
    "    '''Propagates an initial field over a given distance based on the\n",
    "    solution of the paraxial wave equation in an inhomogeneous\n",
    "    refractive index distribution using the explicit-implicit\n",
    "    Crank-Nicolson scheme. All lengths have to be specified in µm.\n",
    "\n",
    "    Parameters\n",
    "    ----------\n",
    "        v_in : 1d-array\n",
    "            Initial field\n",
    "        lam : float\n",
    "            Wavelength\n",
    "        dx : float\n",
    "            Transverse step size\n",
    "        n : 1d-array\n",
    "            Refractive index distribution\n",
    "        nd : float\n",
    "            Reference refractive index\n",
    "        z_end : float\n",
    "            Propagation distance\n",
    "        dz : float\n",
    "            Step size in propagation direction\n",
    "        output_step : int\n",
    "            Number of steps between field outputs\n",
    "\n",
    "    Returns\n",
    "    -------\n",
    "        v_out : 2d-array\n",
    "            Propagated field\n",
    "        z : 1d-array\n",
    "            z-coordinates of field output\n",
    "    '''\n",
    "    \n",
    "    # Basic parameters - wavenumbers\n",
    "    k0 = 2*np.pi/lam\n",
    "    kd = nd*k0\n",
    "    k1 = n*k0\n",
    "    k2 = np.ones(len(k1)) * kd\n",
    "    # z = np.arange(0, z_end, dz)\n",
    "    z = np.linspace(0, z_end, int(z_end/dz) + 1)\n",
    "\n",
    "    # Construction of the operator matrix L1\n",
    "    ## Diagonal elements\n",
    "    diagonals_1 = np.zeros((3, len(n)))\n",
    "    diagonals_1[0] = np.ones(len(n)) * (-2)\n",
    "    diagonals_1[1] = np.ones(len(n)) * 1\n",
    "    diagonals_1[-1] = np.ones(len(n)) * 1\n",
    "    diag_position_1 = [0, 1, -1]\n",
    "    ## Sparse matrix construction\n",
    "    L1 = sps.diags(diagonals_1, diag_position_1)\n",
    "    L1 = (1j/(2*kd*dx**2)) * L1\n",
    "\n",
    "    # Construction of the operator matrix L2\n",
    "    ## Diagonal elements\n",
    "    diagonals_2 = np.zeros((1, len(n)))\n",
    "    diagonals_2[0] = (k1**2 - k2**2) / (2*kd)\n",
    "    diag_position_2 = [0]\n",
    "    ## Sparse matrix construction\n",
    "    L2 = sps.diags(diagonals_2, diag_position_2)\n",
    "    L2 = 1j*L2\n",
    "\n",
    "    # Construction of the operator matrix L\n",
    "    L = L1 + L2\n",
    "\n",
    "    # Crank-Nicolson scheme\n",
    "    # v_out = np.zeros((len(z), len(n)), dtype=complex)\n",
    "    # for i in range(len(z)):\n",
    "    #     ## Construction of the operator matrix M1\n",
    "    #     M1 = sps.eye(len(n)) - (z[i]/2) * L\n",
    "    #     ## Construction of the operator matrix M2\n",
    "    #     M2 = sps.eye(len(n)) + (z[i]/2) * L\n",
    "\n",
    "    #     # Solution of the slowly varying envelope along the propagation direction\n",
    "    #     v_out[i,:] = sps.linalg.spsolve(M1, M2.dot(v_in))\n",
    "    v_out = np.zeros((len(range(0, len(z), output_step)), len(n)), dtype=complex)\n",
    "    counter = 0\n",
    "    for i in range(0, len(z), output_step):\n",
    "        ## Construction of the operator matrix M1\n",
    "        M1 = sps.eye(len(n)) - (z[i]/2) * L\n",
    "        ## Construction of the operator matrix M2\n",
    "        M2 = sps.eye(len(n)) + (z[i]/2) * L\n",
    "\n",
    "        # Solution of the slowly varying envelope along the propagation direction\n",
    "        v_out[counter,:] = sps.linalg.spsolve(M1, M2.dot(v_in))\n",
    "        counter += 1\n",
    "\n",
    "    return v_out, z"
   ]
  },
  {
   "cell_type": "markdown",
   "metadata": {},
   "source": []
  },
  {
   "cell_type": "markdown",
   "metadata": {},
   "source": [
    "#### 4.1.2. <a id='toc4_1_2_'></a>[Convergence Tests](#toc0_)"
   ]
  },
  {
   "cell_type": "markdown",
   "metadata": {},
   "source": []
  },
  {
   "cell_type": "markdown",
   "metadata": {},
   "source": [
    "#### 4.1.3. <a id='toc4_1_3_'></a>[Example](#toc0_)"
   ]
  },
  {
   "cell_type": "markdown",
   "metadata": {},
   "source": []
  },
  {
   "cell_type": "markdown",
   "metadata": {},
   "source": [
    "### 4.2. <a id='toc4_2_'></a>[Task 2 - explicit scheme](#toc0_)"
   ]
  },
  {
   "cell_type": "markdown",
   "metadata": {},
   "source": []
  },
  {
   "cell_type": "markdown",
   "metadata": {},
   "source": [
    "#### 4.2.1. <a id='toc4_2_1_'></a>[Implementation](#toc0_)"
   ]
  },
  {
   "cell_type": "code",
   "execution_count": null,
   "metadata": {},
   "outputs": [],
   "source": [
    "def beamprop_FN(v_in, lam, dx, n, nd,  z_end, dz, output_step):\n",
    "    '''Propagates an initial field over a given distance based on the\n",
    "    solution of the paraxial wave equation in an inhomogeneous\n",
    "    refractive index distribution using the explicit scheme. All lengths have to be specified in µm.\n",
    "\n",
    "    Parameters\n",
    "    ----------\n",
    "        v_in : 1d-array\n",
    "            Initial field\n",
    "        lam : float\n",
    "            Wavelength\n",
    "        dx : float\n",
    "            Transverse step size\n",
    "        n : 1d-array\n",
    "            Refractive index distribution\n",
    "        nd : float\n",
    "            Reference refractive index\n",
    "        z_end : float\n",
    "            Propagation distance\n",
    "        dz : float\n",
    "            Step size in propagation direction\n",
    "        output_step : int\n",
    "            Number of steps between field outputs\n",
    "\n",
    "    Returns\n",
    "    -------\n",
    "        v_out : 2d-array\n",
    "            Propagated field\n",
    "        z : 1d-array\n",
    "            z-coordinates of field output\n",
    "    '''\n",
    "        # Basic parameters - wavenumbers\n",
    "    k0 = 2*np.pi/lam\n",
    "    kd = nd*k0\n",
    "    k1 = n*k0\n",
    "    k2 = np.ones(len(k1)) * kd\n",
    "    # z = np.arange(0, z_end, dz)\n",
    "    z = np.linspace(0, z_end, int(z_end/dz) + 1)\n",
    "\n",
    "    # Construction of the operator matrix L1\n",
    "    ## Diagonal elements\n",
    "    diagonals_1 = np.zeros((3, len(n)))\n",
    "    diagonals_1[0] = np.ones(len(n)) * (-2)\n",
    "    diagonals_1[1] = np.ones(len(n)) * 1\n",
    "    diagonals_1[-1] = np.ones(len(n)) * 1\n",
    "    diag_position_1 = [0, 1, -1]\n",
    "    ## Sparse matrix construction\n",
    "    L1 = sps.diags(diagonals_1, diag_position_1)\n",
    "    L1 = (1j/(2*kd*dx**2)) * L1\n",
    "\n",
    "    # Construction of the operator matrix L2\n",
    "    ## Diagonal elements\n",
    "    diagonals_2 = np.zeros((1, len(n)))\n",
    "    diagonals_2[0] = (k1**2 - k2**2) / (2*kd)\n",
    "    diag_position_2 = [0]\n",
    "    ## Sparse matrix construction\n",
    "    L2 = sps.diags(diagonals_2, diag_position_2)\n",
    "    L2 = 1j*L2\n",
    "\n",
    "    # Construction of the operator matrix L\n",
    "    L = L1 + L2\n",
    "\n",
    "    # Explicit scheme\n",
    "    # v_out = np.zeros((len(z), len(n)), dtype=complex)\n",
    "    # for i in range(len(z)):\n",
    "    #     ## Construction of the operator matrix M\n",
    "    #     M = sps.eye(len(n)) + (z[i]/2) * L\n",
    "\n",
    "    #     # Solution of the slowly varying envelope along the propagation direction\n",
    "    #     v_out[i,:] = M2.dot(v_in)\n",
    "    v_out = np.zeros((len(range(0, len(z), output_step)), len(n)), dtype=complex)\n",
    "    counter = 0\n",
    "    for i in range(0, len(z), output_step):\n",
    "        ## Construction of the operator matrix M\n",
    "        M = sps.eye(len(n)) + (z[i]) * L\n",
    "\n",
    "        # Solution of the slowly varying envelope along the propagation direction\n",
    "        v_out[counter,:] = M.dot(v_in)\n",
    "        counter += 1\n",
    "\n",
    "    return v_out, z"
   ]
  },
  {
   "cell_type": "markdown",
   "metadata": {},
   "source": []
  },
  {
   "cell_type": "markdown",
   "metadata": {},
   "source": [
    "#### 4.2.2. <a id='toc4_2_2_'></a>[Convergence Tests](#toc0_)"
   ]
  },
  {
   "cell_type": "markdown",
   "metadata": {},
   "source": []
  },
  {
   "cell_type": "markdown",
   "metadata": {},
   "source": [
    "#### 4.2.3. <a id='toc4_2_3_'></a>[Example](#toc0_)"
   ]
  },
  {
   "cell_type": "markdown",
   "metadata": {},
   "source": []
  },
  {
   "cell_type": "markdown",
   "metadata": {},
   "source": [
    "### 4.3. <a id='toc4_3_'></a>[Task 3 - implicit scheme](#toc0_)"
   ]
  },
  {
   "cell_type": "markdown",
   "metadata": {},
   "source": []
  },
  {
   "cell_type": "markdown",
   "metadata": {},
   "source": [
    "#### 4.3.1. <a id='toc4_3_1_'></a>[Implementation](#toc0_)"
   ]
  },
  {
   "cell_type": "code",
   "execution_count": null,
   "metadata": {},
   "outputs": [],
   "source": [
    "def beamprop_BN(v_in, lam, dx, n, nd,  z_end, dz, output_step):\n",
    "    '''Propagates an initial field over a given distance based on the\n",
    "    solution of the paraxial wave equation in an inhomogeneous\n",
    "    refractive index distribution using the implicit scheme. All lengths have to be specified in µm.\n",
    "\n",
    "    Parameters\n",
    "    ----------\n",
    "        v_in : 1d-array\n",
    "            Initial field\n",
    "        lam : float\n",
    "            Wavelength\n",
    "        dx : float\n",
    "            Transverse step size\n",
    "        n : 1d-array\n",
    "            Refractive index distribution\n",
    "        nd : float\n",
    "            Reference refractive index\n",
    "        z_end : float\n",
    "            Propagation distance\n",
    "        dz : float\n",
    "            Step size in propagation direction\n",
    "        output_step : int\n",
    "            Number of steps between field outputs\n",
    "\n",
    "    Returns\n",
    "    -------\n",
    "        v_out : 2d-array\n",
    "            Propagated field\n",
    "        z : 1d-array\n",
    "            z-coordinates of field output\n",
    "    '''\n",
    "    \n",
    "        # Basic parameters - wavenumbers\n",
    "    k0 = 2*np.pi/lam\n",
    "    kd = nd*k0\n",
    "    k1 = n*k0\n",
    "    k2 = np.ones(len(k1)) * kd\n",
    "    # z = np.arange(0, z_end, dz)\n",
    "    z = np.linspace(0, z_end, int(z_end/dz) + 1)\n",
    "\n",
    "    # Construction of the operator matrix L1\n",
    "    ## Diagonal elements\n",
    "    diagonals_1 = np.zeros((3, len(n)))\n",
    "    diagonals_1[0] = np.ones(len(n)) * (-2)\n",
    "    diagonals_1[1] = np.ones(len(n)) * 1\n",
    "    diagonals_1[-1] = np.ones(len(n)) * 1\n",
    "    diag_position_1 = [0, 1, -1]\n",
    "    ## Sparse matrix construction\n",
    "    L1 = sps.diags(diagonals_1, diag_position_1)\n",
    "    L1 = (1j/(2*kd*dx**2)) * L1\n",
    "\n",
    "    # Construction of the operator matrix L2\n",
    "    ## Diagonal elements\n",
    "    diagonals_2 = np.zeros((1, len(n)))\n",
    "    diagonals_2[0] = (k1**2 - k2**2) / (2*kd)\n",
    "    diag_position_2 = [0]\n",
    "    ## Sparse matrix construction\n",
    "    L2 = sps.diags(diagonals_2, diag_position_2)\n",
    "    L2 = 1j*L2\n",
    "\n",
    "    # Construction of the operator matrix L\n",
    "    L = L1 + L2\n",
    "\n",
    "    # Implicit scheme\n",
    "    # v_out = np.zeros((len(z), len(n)), dtype=complex)\n",
    "    # for i in range(len(z)):\n",
    "    #     ## Construction of the operator matrix M\n",
    "    #     M = sps.eye(len(n)) - (z[i]) * L\n",
    "\n",
    "    #     # Solution of the slowly varying envelope along the propagation direction\n",
    "    #     v_out[i,:] = sps.linalg.spsolve(M, v_in)\n",
    "    v_out = np.zeros((len(range(0, len(z), output_step)), len(n)), dtype=complex)\n",
    "    counter = 0\n",
    "    for i in range(0, len(z), output_step):\n",
    "        ## Construction of the operator matrix M\n",
    "        M = sps.eye(len(n)) - (z[i]) * L\n",
    "\n",
    "        # Solution of the slowly varying envelope along the propagation direction\n",
    "        v_out[counter,:] = sps.linalg.spsolve(M, v_in)\n",
    "        counter += 1\n",
    "\n",
    "    return v_out, z"
   ]
  },
  {
   "cell_type": "markdown",
   "metadata": {},
   "source": []
  },
  {
   "cell_type": "markdown",
   "metadata": {},
   "source": [
    "#### 4.3.2. <a id='toc4_3_2_'></a>[Convergence Tests](#toc0_)"
   ]
  },
  {
   "cell_type": "markdown",
   "metadata": {},
   "source": []
  },
  {
   "cell_type": "markdown",
   "metadata": {},
   "source": [
    "#### 4.3.3. <a id='toc4_3_3_'></a>[Example](#toc0_)"
   ]
  },
  {
   "cell_type": "markdown",
   "metadata": {},
   "source": []
  },
  {
   "cell_type": "markdown",
   "metadata": {},
   "source": [
    "## 5. <a id='toc5_'></a>[Conclusion](#toc0_)"
   ]
  },
  {
   "cell_type": "markdown",
   "metadata": {},
   "source": []
  },
  {
   "cell_type": "markdown",
   "metadata": {},
   "source": [
    "## 6. <a id='toc6_'></a>[References](#toc0_)"
   ]
  }
 ],
 "metadata": {
  "kernelspec": {
   "display_name": "Python 3",
   "language": "python",
   "name": "python3"
  },
  "language_info": {
   "name": "python",
   "version": "3.11.8"
  }
 },
 "nbformat": 4,
 "nbformat_minor": 2
}
