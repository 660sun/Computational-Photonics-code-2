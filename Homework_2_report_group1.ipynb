{
 "cells": [
  {
   "cell_type": "markdown",
   "metadata": {},
   "source": [
    "<center>\n",
    "\n",
    "<p style=\"font-size:30px;\"><strong> Computational Photonics </p>\n",
    "\n",
    "<p style=\"font-size:30px;\"><strong> Homework 2: Implementation of the Beam Propagation Method </p>\n",
    "\n",
    "\n",
    "</center>\n",
    "\n",
    "<center>\n",
    "\n",
    "**Author:**\n",
    "*Group 1*\n",
    "| Name             | Email       |\n",
    "| -----------      | ----------- |\n",
    "| *Kiril Armstrong*|  *kiril.armstrong@uni-jena.de*   |\n",
    "| *Lena Fleischmann*   |  *lena.fleischmann@uni-jena.de*           |\n",
    "| *Md Zobaer Ahmed Rahat*  |  *@uni-jena.de*           |\n",
    "| *Yucheng Sun*     |  *yucheng.sun@uni-jena.de*        |\n",
    "\n",
    "</center>"
   ]
  },
  {
   "cell_type": "markdown",
   "metadata": {},
   "source": [
    ">**Supervisor:**\n",
    ">\n",
    ">*Prof. Thomas Pertsch* \n",
    ">\n",
    ">**Tutor:**\n",
    ">\n",
    ">*Tobias Bucher*\n",
    ">\n",
    ">*Jan Sperrhake*\n"
   ]
  },
  {
   "cell_type": "code",
   "execution_count": null,
   "metadata": {},
   "outputs": [],
   "source": [
    "import numpy as np\n",
    "import scipy.sparse as sps\n",
    "from scipy.sparse.linalg import eigs\n",
    "from matplotlib import pyplot as plt\n",
    "# from Homework_2_function_headers import waveguide, gauss, beamprop_FN, beamprop_CN, beamprop_BN\n",
    "\n",
    "# dark bluered colormap, registers automatically with matplotlib on import\n",
    "import bluered_dark\n",
    "\n",
    "plt.rcParams.update({\n",
    "        'figure.figsize': (12/2.54, 9/2.54),\n",
    "        'figure.subplot.bottom': 0.15,\n",
    "        'figure.subplot.left': 0.165,\n",
    "        'figure.subplot.right': 0.925,\n",
    "        'figure.subplot.top': 0.9,\n",
    "        'axes.grid': True,\n",
    "})\n",
    "plt.close('all')\n",
    "\n",
    "%config InlineBackend.figure_format = 'svg'\n",
    "%matplotlib inline"
   ]
  },
  {
   "cell_type": "markdown",
   "metadata": {},
   "source": [
    "**Table of contents**<a id='toc0_'></a>    \n",
    "- 1. [Introduction](#toc1_)    \n",
    "- 2. [Beam Propagation Method](#toc2_)    \n",
    "- 3. [Von Neumann stability analysis](#toc3_)    \n",
    "- 4. [Analysis and Simulation of the Problems](#toc4_)    \n",
    "  - 4.1. [Task 1 - explicit - implicit scheme](#toc4_1_)    \n",
    "    - 4.1.1. [Implementation](#toc4_1_1_)    \n",
    "    - 4.1.2. [Convergence Tests](#toc4_1_2_)    \n",
    "    - 4.1.3. [Example](#toc4_1_3_)    \n",
    "  - 4.2. [Task 2 - explicit scheme](#toc4_2_)    \n",
    "    - 4.2.1. [Implementation](#toc4_2_1_)    \n",
    "    - 4.2.2. [Convergence Tests](#toc4_2_2_)    \n",
    "    - 4.2.3. [Example](#toc4_2_3_)    \n",
    "  - 4.3. [Task 3 - implicit scheme](#toc4_3_)    \n",
    "    - 4.3.1. [Implementation](#toc4_3_1_)    \n",
    "    - 4.3.2. [Convergence Tests](#toc4_3_2_)    \n",
    "    - 4.3.3. [Example](#toc4_3_3_)    \n",
    "- 5. [Conclusion](#toc5_)    \n",
    "- 6. [References](#toc6_)    \n",
    "\n",
    "<!-- vscode-jupyter-toc-config\n",
    "\tnumbering=true\n",
    "\tanchor=true\n",
    "\tflat=false\n",
    "\tminLevel=2\n",
    "\tmaxLevel=6\n",
    "\t/vscode-jupyter-toc-config -->\n",
    "<!-- THIS CELL WILL BE REPLACED ON TOC UPDATE. DO NOT WRITE YOUR TEXT IN THIS CELL -->"
   ]
  },
  {
   "cell_type": "markdown",
   "metadata": {},
   "source": [
    "## 1. <a id='toc1_'></a>[Introduction](#toc0_)"
   ]
  },
  {
   "cell_type": "markdown",
   "metadata": {},
   "source": []
  },
  {
   "cell_type": "markdown",
   "metadata": {},
   "source": [
    "## 2. <a id='toc2_'></a>[Beam Propagation Method](#toc0_)"
   ]
  },
  {
   "cell_type": "markdown",
   "metadata": {},
   "source": []
  },
  {
   "cell_type": "markdown",
   "metadata": {},
   "source": [
    "## 3. <a id='toc3_'></a>[Von Neumann stability analysis](#toc0_)"
   ]
  },
  {
   "cell_type": "markdown",
   "metadata": {},
   "source": []
  },
  {
   "cell_type": "markdown",
   "metadata": {},
   "source": [
    "## 4. <a id='toc4_'></a>[Analysis and Simulation of the Problems](#toc0_)"
   ]
  },
  {
   "cell_type": "code",
   "execution_count": null,
   "metadata": {},
   "outputs": [],
   "source": [
    "def waveguide(xa, xb, Nx, n_cladding, n_core):\n",
    "    '''Generates the refractive index distribution of a slab waveguide\n",
    "    with step profile centered around the origin of the coordinate\n",
    "    system with a refractive index of n_core in the waveguide region\n",
    "    and n_cladding in the surrounding cladding area.\n",
    "    All lengths have to be specified in µm.\n",
    "\n",
    "    Parameters\n",
    "    ----------\n",
    "        xa : float\n",
    "            Width of calculation window\n",
    "        xb : float\n",
    "            Width of waveguide\n",
    "        Nx : int\n",
    "            Number of grid points\n",
    "        n_cladding : float\n",
    "            Refractive index of cladding\n",
    "        n_core : float\n",
    "            Refractive index of core\n",
    "\n",
    "    Returns\n",
    "    -------\n",
    "        n : 1d-array\n",
    "            Generated refractive index distribution\n",
    "        x : 1d-array\n",
    "            Generated coordinate vector\n",
    "    '''\n",
    "    \n",
    "    x = np.linspace(-xa/2, xa/2, Nx)\n",
    "    n = np.zeros(Nx, dtype=float)\n",
    "    # index distribution\n",
    "    for i in range(Nx):\n",
    "        if abs(x[i]) <= xb/2:\n",
    "            n[i] = n_core\n",
    "        else:\n",
    "            n[i] = n_cladding\n",
    "    # for i, xi in enumerate(x):\n",
    "    #     if abs(xi) <= xb/2:\n",
    "    #         n[i] = n_core\n",
    "    #     else:\n",
    "    #         n[i] = n_cladding\n",
    "    return n, x"
   ]
  },
  {
   "cell_type": "code",
   "execution_count": null,
   "metadata": {},
   "outputs": [],
   "source": [
    "def gauss(xa, Nx, w):\n",
    "    '''Generates a Gaussian field distribution v = exp(-x^2/w^2) centered\n",
    "    around the origin of the coordinate system and having a width of w.\n",
    "    All lengths have to be specified in µm.\n",
    "\n",
    "    Parameters\n",
    "    ----------\n",
    "        xa : float\n",
    "            Width of calculation window\n",
    "        Nx : int\n",
    "            Number of grid points\n",
    "        w  : float\n",
    "            Width of Gaussian field\n",
    "\n",
    "    Returns\n",
    "    -------\n",
    "        v : 1d-array\n",
    "            Generated field distribution\n",
    "        x : 1d-array\n",
    "            Generated coordinate vector\n",
    "    '''\n",
    "    \n",
    "    x = np.linspace(-xa/2, xa/2, Nx)\n",
    "    v = np.exp(-x**2/w**2)\n",
    "    return v, x"
   ]
  },
  {
   "cell_type": "markdown",
   "metadata": {},
   "source": [
    "### 4.1. <a id='toc4_1_'></a>[Task 1 - explicit - implicit scheme](#toc0_)"
   ]
  },
  {
   "cell_type": "markdown",
   "metadata": {},
   "source": []
  },
  {
   "cell_type": "markdown",
   "metadata": {},
   "source": [
    "#### 4.1.1. <a id='toc4_1_1_'></a>[Implementation](#toc0_)"
   ]
  },
  {
   "cell_type": "markdown",
   "metadata": {},
   "source": []
  },
  {
   "cell_type": "markdown",
   "metadata": {},
   "source": [
    "#### 4.1.2. <a id='toc4_1_2_'></a>[Convergence Tests](#toc0_)"
   ]
  },
  {
   "cell_type": "markdown",
   "metadata": {},
   "source": []
  },
  {
   "cell_type": "markdown",
   "metadata": {},
   "source": [
    "#### 4.1.3. <a id='toc4_1_3_'></a>[Example](#toc0_)"
   ]
  },
  {
   "cell_type": "markdown",
   "metadata": {},
   "source": []
  },
  {
   "cell_type": "markdown",
   "metadata": {},
   "source": [
    "### 4.2. <a id='toc4_2_'></a>[Task 2 - explicit scheme](#toc0_)"
   ]
  },
  {
   "cell_type": "markdown",
   "metadata": {},
   "source": []
  },
  {
   "cell_type": "markdown",
   "metadata": {},
   "source": [
    "#### 4.2.1. <a id='toc4_2_1_'></a>[Implementation](#toc0_)"
   ]
  },
  {
   "cell_type": "markdown",
   "metadata": {},
   "source": []
  },
  {
   "cell_type": "markdown",
   "metadata": {},
   "source": [
    "#### 4.2.2. <a id='toc4_2_2_'></a>[Convergence Tests](#toc0_)"
   ]
  },
  {
   "cell_type": "markdown",
   "metadata": {},
   "source": []
  },
  {
   "cell_type": "markdown",
   "metadata": {},
   "source": [
    "#### 4.2.3. <a id='toc4_2_3_'></a>[Example](#toc0_)"
   ]
  },
  {
   "cell_type": "markdown",
   "metadata": {},
   "source": []
  },
  {
   "cell_type": "markdown",
   "metadata": {},
   "source": [
    "### 4.3. <a id='toc4_3_'></a>[Task 3 - implicit scheme](#toc0_)"
   ]
  },
  {
   "cell_type": "markdown",
   "metadata": {},
   "source": []
  },
  {
   "cell_type": "markdown",
   "metadata": {},
   "source": [
    "#### 4.3.1. <a id='toc4_3_1_'></a>[Implementation](#toc0_)"
   ]
  },
  {
   "cell_type": "markdown",
   "metadata": {},
   "source": []
  },
  {
   "cell_type": "markdown",
   "metadata": {},
   "source": [
    "#### 4.3.2. <a id='toc4_3_2_'></a>[Convergence Tests](#toc0_)"
   ]
  },
  {
   "cell_type": "markdown",
   "metadata": {},
   "source": []
  },
  {
   "cell_type": "markdown",
   "metadata": {},
   "source": [
    "#### 4.3.3. <a id='toc4_3_3_'></a>[Example](#toc0_)"
   ]
  },
  {
   "cell_type": "markdown",
   "metadata": {},
   "source": []
  },
  {
   "cell_type": "markdown",
   "metadata": {},
   "source": [
    "## 5. <a id='toc5_'></a>[Conclusion](#toc0_)"
   ]
  },
  {
   "cell_type": "markdown",
   "metadata": {},
   "source": []
  },
  {
   "cell_type": "markdown",
   "metadata": {},
   "source": [
    "## 6. <a id='toc6_'></a>[References](#toc0_)"
   ]
  }
 ],
 "metadata": {
  "kernelspec": {
   "display_name": "Python 3",
   "language": "python",
   "name": "python3"
  },
  "language_info": {
   "name": "python",
   "version": "3.11.8"
  }
 },
 "nbformat": 4,
 "nbformat_minor": 2
}
